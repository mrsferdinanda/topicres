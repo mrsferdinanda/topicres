{
 "cells": [
  {
   "cell_type": "code",
   "execution_count": null,
   "metadata": {},
   "outputs": [],
   "source": [
    "### jupyter notebook --NotebookApp.iopub_data_rate_limit=10000000000\n",
    "#!/usr/bin/env python\n",
    "# -*- coding: utf-8 -*-\n",
    "\n",
    "# Import packages\n",
    "import pandas as pd\n",
    "import seaborn as sns\n",
    "import numpy as np\n",
    "import matplotlib.pyplot as plt\n",
    "%matplotlib inline"
   ]
  },
  {
   "cell_type": "code",
   "execution_count": null,
   "metadata": {},
   "outputs": [],
   "source": [
    "# Open matrix H\n",
    "df_document_topic = pd.read_csv(\"document_topic.csv\")"
   ]
  },
  {
   "cell_type": "code",
   "execution_count": null,
   "metadata": {},
   "outputs": [],
   "source": [
    "# Group data by day and city\n",
    "df_topic_by_day = df_doc_topic.groupby(['city','date'])\n",
    "\n",
    "topic_sum = df_topic_by_day.sum().drop(columns=['dominant_topic'])\n",
    "dominant_topic = df_topic_by_day['dominant_topic'].apply(list)\n",
    "documents = df_topic_by_day['document'].apply(list)\n",
    "newspaper = df_topic_by_day['newspaper'].apply(list)\n",
    "\n",
    "df = pd.concat([topic_sum,dominant_topic,documents,newspaper],axis=1)"
   ]
  },
  {
   "cell_type": "code",
   "execution_count": null,
   "metadata": {},
   "outputs": [],
   "source": [
    "# Slice dataset by city\n",
    "br = df.loc[df['city'] == 'Brasilia'].drop(columns=['dominant_topic','document','newspaper']).set_index('date')\n",
    "sp = df.loc[df['city'] == 'Sao Paulo'].drop(columns=['dominant_topic','document','newspaper']).set_index('date')\n",
    "rj = df.loc[df['city'] == 'Rio de Janeiro'].drop(columns=['dominant_topic','document','newspaper']).set_index('date')\n",
    "fo = df.loc[df['city'] == 'Fortaleza'].drop(columns=['dominant_topic','document','newspaper']).set_index('date')\n",
    "sa = df.loc[df['city'] == 'Salvador'].drop(columns=['dominant_topic','document','newspaper']).set_index('date')\n",
    "\n",
    "# Normalize by population\n",
    "filter_col = [col for col in br if col.startswith('Topic')]\n",
    "br[filter_col] = br[filter_col].divide(2.974703)\n",
    "sp[filter_col] = sp[filter_col].divide(12.176866)\n",
    "rj[filter_col] = rj[filter_col].divide(6.688927)\n",
    "fo[filter_col] = fo[filter_col].divide(2.643247)\n",
    "sa[filter_col] = sa[filter_col].divide(2.857329)"
   ]
  },
  {
   "cell_type": "code",
   "execution_count": null,
   "metadata": {},
   "outputs": [],
   "source": [
    "# Create and save plots (range = number of topics)\n",
    "for i in range(100):\n",
    "    \n",
    "    x = \"Topic\"+str(i)\n",
    "\n",
    "    TopicX = pd.concat([sp[x],rj[x],br[x],sa[x],fo[x]],axis=1)\n",
    "    TopicX.columns = [\"Sao Paulo\", \"Rio de Janeiro\", \"Brasilia\", \"Salvador\", \"Fortaleza\"]\n",
    "    TopicX = TopicX.fillna(0)\n",
    "\n",
    "    t = TopicX.T\n",
    "    new = t.fillna(0)\n",
    "    res = new.div(new.max(axis=1), axis=0)\n",
    "    TopicX_T = pd.Series(list(res))\n",
    "\n",
    "    plt.figure(figsize=(14,2))\n",
    "    sns.set()\n",
    "    g = sns.heatmap(new, cmap=\"Blues\", linewidths=.2)\n",
    "    g.set_xticklabels(TopicX_T.dt.strftime('%y %b %d'))\n",
    "    plt.xticks(rotation=80)\n",
    "\n",
    "    plt.show()\n",
    "\n",
    "    g.figure.savefig(x+\".pdf\", bbox_inches='tight')"
   ]
  }
 ],
 "metadata": {
  "kernelspec": {
   "display_name": "Python 3",
   "language": "python",
   "name": "python3"
  },
  "language_info": {
   "codemirror_mode": {
    "name": "ipython",
    "version": 3
   },
   "file_extension": ".py",
   "mimetype": "text/x-python",
   "name": "python",
   "nbconvert_exporter": "python",
   "pygments_lexer": "ipython3",
   "version": "3.7.3"
  }
 },
 "nbformat": 4,
 "nbformat_minor": 2
}
