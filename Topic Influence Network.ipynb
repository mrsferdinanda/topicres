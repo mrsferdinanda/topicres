{
 "cells": [
  {
   "cell_type": "code",
   "execution_count": null,
   "metadata": {},
   "outputs": [],
   "source": [
    "'''\n",
    "Using Neo4j sandbox to create topic influence network:\n",
    "\n",
    "LOAD CSV WITH HEADERS FROM \"directory\\data_topic_X.csv\" AS row\n",
    "MERGE (t: TopicNode {Name:row.topic})\n",
    "MERGE (a: ArticleNode {Name:row.article, Source:row.newspaper, City:row.city})\n",
    "MERGE (n: NewspaperNode {Name:row.newspaper, City:row.city})\n",
    "MERGE (a)-[:DEALS_WITH]->(t)\n",
    "MERGE (n)-[:PUBLISHED]->(a)\n",
    "'''"
   ]
  }
 ],
 "metadata": {
  "kernelspec": {
   "display_name": "Python 3",
   "language": "python",
   "name": "python3"
  },
  "language_info": {
   "codemirror_mode": {
    "name": "ipython",
    "version": 3
   },
   "file_extension": ".py",
   "mimetype": "text/x-python",
   "name": "python",
   "nbconvert_exporter": "python",
   "pygments_lexer": "ipython3",
   "version": "3.7.3"
  }
 },
 "nbformat": 4,
 "nbformat_minor": 2
}
